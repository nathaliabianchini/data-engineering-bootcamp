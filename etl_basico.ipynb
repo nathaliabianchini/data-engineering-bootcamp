{
 "cells": [
  {
   "cell_type": "code",
   "execution_count": 1,
   "id": "07f7458b",
   "metadata": {},
   "outputs": [],
   "source": [
    "from pyspark.sql import SparkSession\n",
    "from pyspark.sql.types import *\n",
    "import os"
   ]
  },
  {
   "cell_type": "code",
   "execution_count": 2,
   "id": "2c65090f",
   "metadata": {},
   "outputs": [],
   "source": [
    "jar_path = os.path.abspath(\"./conector_dll/mssql-jdbc-13.2.1.jre11.jar\")\n",
    "dll_path = os.path.abspath(\"./conector_dll/mssql-jdbc_auth-13.2.1.x64.dll\")  \n",
    "\n",
    "os.environ[\"PATH\"] = os.path.dirname(dll_path) + os.pathsep + os.environ[\"PATH\"]"
   ]
  },
  {
   "cell_type": "code",
   "execution_count": 3,
   "id": "6e9d1166",
   "metadata": {},
   "outputs": [],
   "source": [
    "spark = SparkSession.builder \\\n",
    "    .appName(\"storeToClean\") \\\n",
    "    .config(\"spark.jars\", jar_path) \\\n",
    "    .getOrCreate()"
   ]
  },
  {
   "cell_type": "code",
   "execution_count": 4,
   "id": "c98ba348",
   "metadata": {},
   "outputs": [],
   "source": [
    "csv_path = \"./dataset_files/store.csv\""
   ]
  },
  {
   "cell_type": "code",
   "execution_count": 5,
   "id": "acecc8f2",
   "metadata": {},
   "outputs": [
    {
     "name": "stdout",
     "output_type": "stream",
     "text": [
      "+-----+---------+----------+-------------------+-------------------------+------------------------+------+---------------+---------------+---------------+\n",
      "|Store|StoreType|Assortment|CompetitionDistance|CompetitionOpenSinceMonth|CompetitionOpenSinceYear|Promo2|Promo2SinceWeek|Promo2SinceYear|  PromoInterval|\n",
      "+-----+---------+----------+-------------------+-------------------------+------------------------+------+---------------+---------------+---------------+\n",
      "|    1|        c|         a|               1270|                        9|                    2008|     0|           NULL|           NULL|           NULL|\n",
      "|    2|        a|         a|                570|                       11|                    2007|     1|             13|           2010|Jan,Apr,Jul,Oct|\n",
      "|    3|        a|         a|              14130|                       12|                    2006|     1|             14|           2011|Jan,Apr,Jul,Oct|\n",
      "|    4|        c|         c|                620|                        9|                    2009|     0|           NULL|           NULL|           NULL|\n",
      "|    5|        a|         a|              29910|                        4|                    2015|     0|           NULL|           NULL|           NULL|\n",
      "+-----+---------+----------+-------------------+-------------------------+------------------------+------+---------------+---------------+---------------+\n",
      "only showing top 5 rows\n",
      "\n"
     ]
    }
   ],
   "source": [
    "store_df = spark.read.csv(csv_path, header = \"True\")\n",
    "store_df.show(5)"
   ]
  },
  {
   "cell_type": "code",
   "execution_count": 6,
   "id": "50f55b8d",
   "metadata": {},
   "outputs": [
    {
     "name": "stdout",
     "output_type": "stream",
     "text": [
      "Número de colunas: 10\n"
     ]
    }
   ],
   "source": [
    "num_colunas = len(store_df.columns)\n",
    "print(\"Número de colunas:\", num_colunas)"
   ]
  },
  {
   "cell_type": "code",
   "execution_count": 7,
   "id": "c2544a2d",
   "metadata": {},
   "outputs": [
    {
     "name": "stdout",
     "output_type": "stream",
     "text": [
      "+-----+---------+----------+-------------------+-------------------------+------------------------+------+---------------+---------------+----------------+\n",
      "|Store|StoreType|Assortment|CompetitionDistance|CompetitionOpenSinceMonth|CompetitionOpenSinceYear|Promo2|Promo2SinceWeek|Promo2SinceYear|   PromoInterval|\n",
      "+-----+---------+----------+-------------------+-------------------------+------------------------+------+---------------+---------------+----------------+\n",
      "|    1|        c|         a|             1270.0|                        9|                    2008|     0|           NULL|           NULL|            NULL|\n",
      "|    2|        a|         a|              570.0|                       11|                    2007|     1|             13|           2010| Jan,Apr,Jul,Oct|\n",
      "|    3|        a|         a|            14130.0|                       12|                    2006|     1|             14|           2011| Jan,Apr,Jul,Oct|\n",
      "|    4|        c|         c|              620.0|                        9|                    2009|     0|           NULL|           NULL|            NULL|\n",
      "|    5|        a|         a|            29910.0|                        4|                    2015|     0|           NULL|           NULL|            NULL|\n",
      "|    6|        a|         a|              310.0|                       12|                    2013|     0|           NULL|           NULL|            NULL|\n",
      "|    7|        a|         c|            24000.0|                        4|                    2013|     0|           NULL|           NULL|            NULL|\n",
      "|    8|        a|         a|             7520.0|                       10|                    2014|     0|           NULL|           NULL|            NULL|\n",
      "|    9|        a|         c|             2030.0|                        8|                    2000|     0|           NULL|           NULL|            NULL|\n",
      "|   10|        a|         a|             3160.0|                        9|                    2009|     0|           NULL|           NULL|            NULL|\n",
      "|   11|        a|         c|              960.0|                       11|                    2011|     1|              1|           2012| Jan,Apr,Jul,Oct|\n",
      "|   12|        a|         c|             1070.0|                     NULL|                    NULL|     1|             13|           2010| Jan,Apr,Jul,Oct|\n",
      "|   13|        d|         a|              310.0|                     NULL|                    NULL|     1|             45|           2009| Feb,May,Aug,Nov|\n",
      "|   14|        a|         a|             1300.0|                        3|                    2014|     1|             40|           2011| Jan,Apr,Jul,Oct|\n",
      "|   15|        d|         c|             4110.0|                        3|                    2010|     1|             14|           2011| Jan,Apr,Jul,Oct|\n",
      "|   16|        a|         c|             3270.0|                     NULL|                    NULL|     0|           NULL|           NULL|            NULL|\n",
      "|   17|        a|         a|               50.0|                       12|                    2005|     1|             26|           2010| Jan,Apr,Jul,Oct|\n",
      "|   18|        d|         c|            13840.0|                        6|                    2010|     1|             14|           2012| Jan,Apr,Jul,Oct|\n",
      "|   19|        a|         c|             3240.0|                     NULL|                    NULL|     1|             22|           2011|Mar,Jun,Sept,Dec|\n",
      "|   20|        d|         a|             2340.0|                        5|                    2009|     1|             40|           2014| Jan,Apr,Jul,Oct|\n",
      "+-----+---------+----------+-------------------+-------------------------+------------------------+------+---------------+---------------+----------------+\n",
      "only showing top 20 rows\n",
      "\n"
     ]
    }
   ],
   "source": [
    "Schema = StructType([\n",
    "    StructField('Store', StringType(), nullable=True),\n",
    "    StructField('StoreType', StringType(), nullable=True),\n",
    "    StructField('Assortment', StringType(), nullable=True),\n",
    "    StructField('CompetitionDistance', FloatType(), nullable=True),\n",
    "    StructField('CompetitionOpenSinceMonth', IntegerType(), nullable=True),\n",
    "    StructField('CompetitionOpenSinceYear', IntegerType(), nullable=True),\n",
    "    StructField('Promo2', IntegerType(), nullable=True),\n",
    "    StructField('Promo2SinceWeek', IntegerType(), nullable=True),\n",
    "    StructField('Promo2SinceYear', IntegerType(), nullable=True),\n",
    "    StructField('PromoInterval', StringType(), nullable=True),\n",
    "])\n",
    "\n",
    "df = spark.read.option(\"header\", True).schema(Schema).csv(csv_path)\n",
    "df.show()"
   ]
  },
  {
   "cell_type": "code",
   "execution_count": 8,
   "id": "c7216c2c",
   "metadata": {},
   "outputs": [
    {
     "data": {
      "text/plain": [
       "[('Store', 'string'),\n",
       " ('StoreType', 'string'),\n",
       " ('Assortment', 'string'),\n",
       " ('CompetitionDistance', 'float'),\n",
       " ('CompetitionOpenSinceMonth', 'int'),\n",
       " ('CompetitionOpenSinceYear', 'int'),\n",
       " ('Promo2', 'int'),\n",
       " ('Promo2SinceWeek', 'int'),\n",
       " ('Promo2SinceYear', 'int'),\n",
       " ('PromoInterval', 'string')]"
      ]
     },
     "execution_count": 8,
     "metadata": {},
     "output_type": "execute_result"
    }
   ],
   "source": [
    "df.dtypes"
   ]
  },
  {
   "cell_type": "code",
   "execution_count": 9,
   "id": "ed4d2c06",
   "metadata": {},
   "outputs": [],
   "source": [
    "df_malformed=spark.read.option(\"header\", True).option(\"mode\",'DROPMALFORMED').csv(csv_path)"
   ]
  },
  {
   "cell_type": "code",
   "execution_count": 10,
   "id": "eed93c99",
   "metadata": {},
   "outputs": [
    {
     "name": "stdout",
     "output_type": "stream",
     "text": [
      "+-----+---------+----------+-------------------+-------------------------+------------------------+------+---------------+---------------+----------------+\n",
      "|Store|StoreType|Assortment|CompetitionDistance|CompetitionOpenSinceMonth|CompetitionOpenSinceYear|Promo2|Promo2SinceWeek|Promo2SinceYear|   PromoInterval|\n",
      "+-----+---------+----------+-------------------+-------------------------+------------------------+------+---------------+---------------+----------------+\n",
      "|    1|        c|         a|             1270.0|                        9|                    2008|     0|              0|              0|            NULL|\n",
      "|    2|        a|         a|              570.0|                       11|                    2007|     1|             13|           2010| Jan,Apr,Jul,Oct|\n",
      "|    3|        a|         a|            14130.0|                       12|                    2006|     1|             14|           2011| Jan,Apr,Jul,Oct|\n",
      "|    4|        c|         c|              620.0|                        9|                    2009|     0|              0|              0|            NULL|\n",
      "|    5|        a|         a|            29910.0|                        4|                    2015|     0|              0|              0|            NULL|\n",
      "|    6|        a|         a|              310.0|                       12|                    2013|     0|              0|              0|            NULL|\n",
      "|    7|        a|         c|            24000.0|                        4|                    2013|     0|              0|              0|            NULL|\n",
      "|    8|        a|         a|             7520.0|                       10|                    2014|     0|              0|              0|            NULL|\n",
      "|    9|        a|         c|             2030.0|                        8|                    2000|     0|              0|              0|            NULL|\n",
      "|   10|        a|         a|             3160.0|                        9|                    2009|     0|              0|              0|            NULL|\n",
      "|   11|        a|         c|              960.0|                       11|                    2011|     1|              1|           2012| Jan,Apr,Jul,Oct|\n",
      "|   12|        a|         c|             1070.0|                        0|                       0|     1|             13|           2010| Jan,Apr,Jul,Oct|\n",
      "|   13|        d|         a|              310.0|                        0|                       0|     1|             45|           2009| Feb,May,Aug,Nov|\n",
      "|   14|        a|         a|             1300.0|                        3|                    2014|     1|             40|           2011| Jan,Apr,Jul,Oct|\n",
      "|   15|        d|         c|             4110.0|                        3|                    2010|     1|             14|           2011| Jan,Apr,Jul,Oct|\n",
      "|   16|        a|         c|             3270.0|                        0|                       0|     0|              0|              0|            NULL|\n",
      "|   17|        a|         a|               50.0|                       12|                    2005|     1|             26|           2010| Jan,Apr,Jul,Oct|\n",
      "|   18|        d|         c|            13840.0|                        6|                    2010|     1|             14|           2012| Jan,Apr,Jul,Oct|\n",
      "|   19|        a|         c|             3240.0|                        0|                       0|     1|             22|           2011|Mar,Jun,Sept,Dec|\n",
      "|   20|        d|         a|             2340.0|                        5|                    2009|     1|             40|           2014| Jan,Apr,Jul,Oct|\n",
      "+-----+---------+----------+-------------------+-------------------------+------------------------+------+---------------+---------------+----------------+\n",
      "only showing top 20 rows\n",
      "\n"
     ]
    }
   ],
   "source": [
    "df.fillna(value=0).show()"
   ]
  },
  {
   "cell_type": "code",
   "execution_count": null,
   "id": "b97981b7",
   "metadata": {},
   "outputs": [
    {
     "name": "stdout",
     "output_type": "stream",
     "text": [
      "Tentando gravar no SQL Server...\n",
      "DADOS GRAVADOS COM SUCESSO!\n"
     ]
    }
   ],
   "source": [
    "df.write \\\n",
    "    .format(\"jdbc\") \\\n",
    "    .mode(\"overwrite\") \\\n",
    "    .option(\"url\", \"jdbc:sqlserver://localhost:1433;databaseName=Datasets;integratedSecurity=true;encrypt=true;trustServerCertificate=true;\") \\\n",
    "    .option(\"dbtable\", \"dbo.ETLBasico\") \\\n",
    "    .option(\"driver\", \"com.microsoft.sqlserver.jdbc.SQLServerDriver\") \\\n",
    "    .save()"
   ]
  }
 ],
 "metadata": {
  "kernelspec": {
   "display_name": "Python (spark-project)",
   "language": "python",
   "name": "spark-project"
  },
  "language_info": {
   "codemirror_mode": {
    "name": "ipython",
    "version": 3
   },
   "file_extension": ".py",
   "mimetype": "text/x-python",
   "name": "python",
   "nbconvert_exporter": "python",
   "pygments_lexer": "ipython3",
   "version": "3.11.9"
  }
 },
 "nbformat": 4,
 "nbformat_minor": 5
}
