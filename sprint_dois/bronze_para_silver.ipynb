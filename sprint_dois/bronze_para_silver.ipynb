{
 "cells": [
  {
   "cell_type": "code",
   "execution_count": null,
   "id": "3f6fe20f",
   "metadata": {},
   "outputs": [],
   "source": [
    "from pyspark.sql import SparkSession\n",
    "from pyspark.sql.types import *\n",
    "import os\n",
    "from pyspark.sql.functions import col, to_timestamp, lower, to_number, regexp_replace, trim"
   ]
  },
  {
   "cell_type": "code",
   "execution_count": null,
   "id": "fe54e9d9",
   "metadata": {},
   "outputs": [],
   "source": [
    "jar_path = os.path.abspath(\"../conector_dll/mssql-jdbc-13.2.1.jre11.jar\")\n",
    "dll_path = os.path.abspath(\"../conector_dll/mssql-jdbc_auth-13.2.1.x64.dll\")  \n",
    "\n",
    "os.environ[\"PATH\"] = os.path.dirname(dll_path) + os.pathsep + os.environ[\"PATH\"]"
   ]
  },
  {
   "cell_type": "code",
   "execution_count": null,
   "id": "22f234b5",
   "metadata": {},
   "outputs": [],
   "source": [
    "spark = SparkSession.builder \\\n",
    "    .appName(\"Sprint 02 - Bronze para Silver\") \\\n",
    "    .config(\"spark.jars\", jar_path) \\\n",
    "    .config(\"spark.sql.session.timeZone\", \"America/Sao_Paulo\") \\\n",
    "    .getOrCreate()"
   ]
  },
  {
   "cell_type": "markdown",
   "id": "fdd3476b",
   "metadata": {},
   "source": [
    "### olist_orders_dataset.csv"
   ]
  },
  {
   "cell_type": "code",
   "execution_count": null,
   "id": "a1674c42",
   "metadata": {},
   "outputs": [],
   "source": [
    "csv_path = \"./dataset_files/olist_orders_dataset.csv\""
   ]
  },
  {
   "cell_type": "code",
   "execution_count": null,
   "id": "68f31067",
   "metadata": {},
   "outputs": [],
   "source": [
    "df_orders = spark.read.csv(csv_path, header = \"True\")\n",
    "df_orders.printSchema()"
   ]
  },
  {
   "cell_type": "code",
   "execution_count": null,
   "id": "f374558c",
   "metadata": {},
   "outputs": [],
   "source": [
    "cols_timestamp = [\n",
    "    \"order_purchase_timestamp\",\n",
    "    \"order_approved_at\",\n",
    "    \"order_delivered_carrier_date\",\n",
    "    \"order_delivered_customer_date\",\n",
    "    \"order_estimated_delivery_date\"\n",
    "]\n",
    "\n",
    "df_orders_silver = df_orders\n",
    "\n",
    "for c in cols_timestamp:\n",
    "    df_orders_silver = df_orders_silver.withColumn(\n",
    "        c,\n",
    "        to_timestamp(col(c))\n",
    "    )\n",
    "\n",
    "df_orders_silver = df_orders_silver.fillna(\n",
    "    \"N/A\",  \n",
    "    subset=[\"order_status\"] \n",
    ")\n",
    "\n",
    "df_orders_silver.printSchema()"
   ]
  },
  {
   "cell_type": "markdown",
   "id": "fe153824",
   "metadata": {},
   "source": [
    "### olist_products_dataset.csv"
   ]
  },
  {
   "cell_type": "code",
   "execution_count": null,
   "id": "569527d0",
   "metadata": {},
   "outputs": [],
   "source": [
    "csv_path = \"./dataset_files/olist_products_dataset.csv\""
   ]
  },
  {
   "cell_type": "code",
   "execution_count": null,
   "id": "d8c91441",
   "metadata": {},
   "outputs": [],
   "source": [
    "df_products = spark.read.csv(csv_path, header = \"True\")\n",
    "df_products.printSchema()"
   ]
  },
  {
   "cell_type": "code",
   "execution_count": null,
   "id": "33ba817d",
   "metadata": {},
   "outputs": [],
   "source": [
    "df_products_silver = df_products \\\n",
    "    .withColumn(\"product_category_name\", lower(col(\"product_category_name\"))) \\\n",
    "    .withColumn(\"product_category_name\", regexp_replace(col(\"product_category_name\"), \"_\", \" \")) \\\n",
    "    .withColumn(\"product_category_name\", trim(col(\"product_category_name\")))\n",
    "\n",
    "cols_number = [\n",
    "    \"product_name_lenght\",\n",
    "    \"product_description_lenght\",\n",
    "    \"product_photos_qty\",\n",
    "    \"product_weight_g\",\n",
    "    \"product_length_cm\",\n",
    "    \"product_height_cm\",\n",
    "    \"product_width_cm\"\n",
    "]\n",
    "\n",
    "for c in cols_number:\n",
    "    df_products_silver = df_products_silver.withColumn(\n",
    "        c,\n",
    "        col(c).cast(IntegerType())\n",
    "    )\n",
    "\n",
    "df_products_silver = df_products_silver.fillna(0)\n",
    "df_products_silver = df_products_silver.fillna(\n",
    "    \"N/A\",  \n",
    "    subset=[\"product_category_name\"] \n",
    ")\n",
    "\n",
    "df_products_silver.printSchema()"
   ]
  },
  {
   "cell_type": "markdown",
   "id": "7f4c0611",
   "metadata": {},
   "source": [
    "### olist_order_payments_dataset.csv"
   ]
  },
  {
   "cell_type": "code",
   "execution_count": null,
   "id": "0a6b619d",
   "metadata": {},
   "outputs": [],
   "source": [
    "csv_path = \"./dataset_files/olist_order_payments_dataset.csv\""
   ]
  },
  {
   "cell_type": "code",
   "execution_count": null,
   "id": "618c6b55",
   "metadata": {},
   "outputs": [],
   "source": [
    "df_payments = spark.read.csv(csv_path, header = \"True\")\n",
    "df_payments.printSchema()"
   ]
  },
  {
   "cell_type": "code",
   "execution_count": null,
   "id": "f8e88dd5",
   "metadata": {},
   "outputs": [],
   "source": [
    "df_payments_silver = df_payments \\\n",
    "    .withColumn(\"payment_type\", lower(col(\"payment_type\"))) \\\n",
    "    .withColumn(\"payment_type\", regexp_replace(col(\"payment_type\"), \"_\", \" \")) \\\n",
    "    .withColumn(\"payment_type\", trim(col(\"payment_type\")))\n",
    "\n",
    "cols_number = [\n",
    "    \"payment_sequential\",\n",
    "    \"payment_installments\"\n",
    "]\n",
    "\n",
    "for c in cols_number:\n",
    "    df_payments_silver = df_payments_silver.withColumn(\n",
    "        c,\n",
    "        col(c).cast(IntegerType())\n",
    "    )\n",
    "\n",
    "df_payments_silver = df_payments_silver.withColumn(\"payment_value\", col(\"payment_value\").cast(DecimalType(10, 2)))\n",
    "\n",
    "df_payments_silver = df_payments_silver.fillna(0)\n",
    "\n",
    "df_payments_silver = df_payments_silver.fillna(\n",
    "    \"N/A\",  \n",
    "    subset=[\"payment_type\"] \n",
    ")\n",
    "\n",
    "df_payments_silver.printSchema()"
   ]
  },
  {
   "cell_type": "markdown",
   "id": "19f72e36",
   "metadata": {},
   "source": [
    "### olist_order_items_dataset.csv"
   ]
  },
  {
   "cell_type": "code",
   "execution_count": null,
   "id": "c56c02bc",
   "metadata": {},
   "outputs": [],
   "source": [
    "csv_path = \"./dataset_files/olist_order_items_dataset.csv\""
   ]
  },
  {
   "cell_type": "code",
   "execution_count": null,
   "id": "71759643",
   "metadata": {},
   "outputs": [],
   "source": [
    "df_items = spark.read.csv(csv_path, header = \"True\")\n",
    "df_items.printSchema()"
   ]
  },
  {
   "cell_type": "code",
   "execution_count": null,
   "id": "e1f07104",
   "metadata": {},
   "outputs": [],
   "source": [
    "cols_decimal = [\n",
    "    \"price\",\n",
    "    \"freight_value\"\n",
    "]\n",
    "\n",
    "df_items_silver = df_items\n",
    "\n",
    "for c in cols_decimal:\n",
    "    df_items_silver = df_items_silver.withColumn(\n",
    "        c,\n",
    "        col(c).cast(DecimalType(10, 2))\n",
    "    )\n",
    "\n",
    "df_items_silver = df_items_silver.withColumn(\"shipping_limit_date\", col(\"shipping_limit_date\").cast(TimestampType()))\n",
    "df_items_silver = df_items_silver.withColumn(\"order_item_id\", col(\"order_item_id\").cast(IntegerType()))\n",
    "\n",
    "df_items_silver = df_items_silver.fillna(0)\n",
    "\n",
    "df_items_silver.printSchema()"
   ]
  },
  {
   "cell_type": "markdown",
   "id": "44030617",
   "metadata": {},
   "source": [
    "### olist_customers_dataset.csv"
   ]
  },
  {
   "cell_type": "code",
   "execution_count": null,
   "id": "dd1703b9",
   "metadata": {},
   "outputs": [],
   "source": [
    "csv_path = \"./dataset_files/olist_customers_dataset.csv\""
   ]
  },
  {
   "cell_type": "code",
   "execution_count": null,
   "id": "40f235b4",
   "metadata": {},
   "outputs": [],
   "source": [
    "df_customers = spark.read.csv(csv_path, header = \"True\")\n",
    "df_customers.printSchema()"
   ]
  },
  {
   "cell_type": "code",
   "execution_count": null,
   "id": "03c89747",
   "metadata": {},
   "outputs": [],
   "source": [
    "df_customers_silver = df_customers \\\n",
    "    .withColumn(\"customer_city\", lower(col(\"customer_city\"))) \\\n",
    "    .withColumn(\"customer_state\", lower(col(\"customer_state\"))) \n",
    "\n",
    "df_customers_silver = df_customers_silver.fillna(\n",
    "    \"N/A\",  \n",
    "    subset=[\"customer_city\", \"customer_state\"] \n",
    ")\n",
    "\n",
    "df_customers_silver.printSchema()"
   ]
  },
  {
   "cell_type": "markdown",
   "id": "3ba7d8c8",
   "metadata": {},
   "source": [
    "### salvar dataframes"
   ]
  },
  {
   "cell_type": "code",
   "execution_count": null,
   "id": "0b4d0421",
   "metadata": {},
   "outputs": [],
   "source": [
    "jdbc_url = \"jdbc:sqlserver://localhost:1433;databaseName=olist_db;integratedSecurity=true;encrypt=true;trustServerCertificate=true;\"\n",
    "\n",
    "jdbc_properties = {\n",
    "    \"driver\": \"com.microsoft.sqlserver.jdbc.SQLServerDriver\"\n",
    "}"
   ]
  },
  {
   "cell_type": "markdown",
   "id": "4231038e",
   "metadata": {},
   "source": [
    "### salvar na camada bronze"
   ]
  },
  {
   "cell_type": "code",
   "execution_count": null,
   "id": "93cdc1b9",
   "metadata": {},
   "outputs": [],
   "source": [
    "df_orders.write \\\n",
    "    .jdbc(url=jdbc_url,\n",
    "          table=\"bronze.orders\",\n",
    "          mode=\"overwrite\",\n",
    "          properties=jdbc_properties)\n",
    "\n",
    "df_products.write \\\n",
    "    .jdbc(url=jdbc_url,\n",
    "          table=\"bronze.products\",\n",
    "          mode=\"overwrite\",\n",
    "          properties=jdbc_properties)\n",
    "\n",
    "df_customers.write \\\n",
    "    .jdbc(url=jdbc_url,\n",
    "          table=\"bronze.customers\",\n",
    "          mode=\"overwrite\",\n",
    "          properties=jdbc_properties)\n",
    "\n",
    "df_items.write \\\n",
    "    .jdbc(url=jdbc_url,\n",
    "          table=\"bronze.order_items\",  \n",
    "          mode=\"overwrite\",\n",
    "          properties=jdbc_properties)\n",
    "\n",
    "df_payments.write \\\n",
    "    .jdbc(url=jdbc_url,\n",
    "          table=\"bronze.order_payments\", \n",
    "          mode=\"overwrite\",\n",
    "          properties=jdbc_properties)"
   ]
  },
  {
   "cell_type": "markdown",
   "id": "224b2abf",
   "metadata": {},
   "source": [
    "### salvar na camada silver"
   ]
  },
  {
   "cell_type": "code",
   "execution_count": null,
   "id": "417f9175",
   "metadata": {},
   "outputs": [],
   "source": [
    "df_orders_silver.write \\\n",
    "    .jdbc(url=jdbc_url,\n",
    "          table=\"silver.orders\",\n",
    "          mode=\"overwrite\",\n",
    "          properties=jdbc_properties)\n",
    "\n",
    "df_products_silver.write \\\n",
    "    .jdbc(url=jdbc_url,\n",
    "          table=\"silver.products\",\n",
    "          mode=\"overwrite\",\n",
    "          properties=jdbc_properties)\n",
    "\n",
    "df_customers_silver.write \\\n",
    "    .jdbc(url=jdbc_url,\n",
    "          table=\"silver.customers\",\n",
    "          mode=\"overwrite\",\n",
    "          properties=jdbc_properties)\n",
    "\n",
    "df_items_silver.write \\\n",
    "    .jdbc(url=jdbc_url,\n",
    "          table=\"silver.order_items\",  \n",
    "          mode=\"overwrite\",\n",
    "          properties=jdbc_properties)\n",
    "\n",
    "df_payments_silver.write \\\n",
    "    .jdbc(url=jdbc_url,\n",
    "          table=\"silver.order_payments\", \n",
    "          mode=\"overwrite\",\n",
    "          properties=jdbc_properties)"
   ]
  }
 ],
 "metadata": {
  "kernelspec": {
   "display_name": "venv_spark",
   "language": "python",
   "name": "python3"
  },
  "language_info": {
   "codemirror_mode": {
    "name": "ipython",
    "version": 3
   },
   "file_extension": ".py",
   "mimetype": "text/x-python",
   "name": "python",
   "nbconvert_exporter": "python",
   "pygments_lexer": "ipython3",
   "version": "3.11.9"
  }
 },
 "nbformat": 4,
 "nbformat_minor": 5
}
