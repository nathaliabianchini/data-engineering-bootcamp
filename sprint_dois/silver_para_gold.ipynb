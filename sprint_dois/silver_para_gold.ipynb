{
 "cells": [
  {
   "cell_type": "code",
<<<<<<< HEAD
<<<<<<< HEAD
   "execution_count": null,
=======
   "execution_count": 1,
>>>>>>> 89a46fc7c9be0502263bea884c46e2ff385b5009
=======
   "execution_count": 1,
>>>>>>> 89a46fc7c9be0502263bea884c46e2ff385b5009
   "id": "e730c073",
   "metadata": {},
   "outputs": [],
   "source": [
    "from pyspark.sql import SparkSession\n",
    "from pyspark.sql.types import *\n",
    "import os"
   ]
  },
  {
   "cell_type": "code",
<<<<<<< HEAD
<<<<<<< HEAD
   "execution_count": null,
=======
   "execution_count": 2,
>>>>>>> 89a46fc7c9be0502263bea884c46e2ff385b5009
=======
   "execution_count": 2,
>>>>>>> 89a46fc7c9be0502263bea884c46e2ff385b5009
   "id": "99584cf8",
   "metadata": {},
   "outputs": [],
   "source": [
    "jar_path = os.path.abspath(\"../conector_dll/mssql-jdbc-13.2.1.jre11.jar\")\n",
    "dll_path = os.path.abspath(\"../conector_dll/mssql-jdbc_auth-13.2.1.x64.dll\")  \n",
    "\n",
    "os.environ[\"PATH\"] = os.path.dirname(dll_path) + os.pathsep + os.environ[\"PATH\"]"
   ]
  },
  {
   "cell_type": "code",
<<<<<<< HEAD
<<<<<<< HEAD
   "execution_count": null,
=======
   "execution_count": 3,
>>>>>>> 89a46fc7c9be0502263bea884c46e2ff385b5009
=======
   "execution_count": 3,
>>>>>>> 89a46fc7c9be0502263bea884c46e2ff385b5009
   "id": "2adf1e86",
   "metadata": {},
   "outputs": [],
   "source": [
    "spark = SparkSession.builder \\\n",
    "    .appName(\"Sprint 02 - Silver para Gold\") \\\n",
    "    .config(\"spark.jars\", jar_path) \\\n",
    "    .getOrCreate()"
   ]
  },
  {
   "cell_type": "code",
<<<<<<< HEAD
<<<<<<< HEAD
   "execution_count": null,
=======
   "execution_count": 4,
>>>>>>> 89a46fc7c9be0502263bea884c46e2ff385b5009
=======
   "execution_count": 4,
>>>>>>> 89a46fc7c9be0502263bea884c46e2ff385b5009
   "id": "73f35ea0",
   "metadata": {},
   "outputs": [],
   "source": [
    "jdbc_url = \"jdbc:sqlserver://localhost:1433;databaseName=olist_db;integratedSecurity=true;encrypt=true;trustServerCertificate=true;\"\n",
    "\n",
    "jdbc_properties = {\n",
    "    \"driver\": \"com.microsoft.sqlserver.jdbc.SQLServerDriver\"\n",
    "}"
   ]
  },
  {
   "cell_type": "code",
   "execution_count": null,
   "id": "52e33052",
   "metadata": {},
<<<<<<< HEAD
<<<<<<< HEAD
   "outputs": [],
=======
=======
>>>>>>> 89a46fc7c9be0502263bea884c46e2ff385b5009
   "outputs": [
    {
     "name": "stdout",
     "output_type": "stream",
     "text": [
      "root\n",
      " |-- order_id: string (nullable = true)\n",
      " |-- customer_id: string (nullable = true)\n",
      " |-- order_status: string (nullable = true)\n",
      " |-- order_purchase_timestamp: timestamp (nullable = true)\n",
      " |-- order_approved_at: timestamp (nullable = true)\n",
      " |-- order_delivered_carrier_date: timestamp (nullable = true)\n",
      " |-- order_delivered_customer_date: timestamp (nullable = true)\n",
      " |-- order_estimated_delivery_date: timestamp (nullable = true)\n",
      "\n"
     ]
    }
   ],
<<<<<<< HEAD
>>>>>>> 89a46fc7c9be0502263bea884c46e2ff385b5009
=======
>>>>>>> 89a46fc7c9be0502263bea884c46e2ff385b5009
   "source": [
    "def read_silver_tables(table_name):\n",
    "    return spark.read \\\n",
    "        .jdbc(url=jdbc_url,\n",
    "              table=f\"silver.{table_name}\",\n",
    "              properties=jdbc_properties)\n",
    "\n",
    "df_orders = read_silver_tables(\"orders\")\n",
    "df_products = read_silver_tables(\"products\")\n",
    "df_customers = read_silver_tables(\"customers\")\n",
    "df_items = read_silver_tables(\"order_items\")\n",
    "df_payments = read_silver_tables(\"order_payments\")\n",
    "\n",
    "\n",
    "df_orders.createOrReplaceTempView(\"orders\")\n",
    "df_products.createOrReplaceTempView(\"products\")\n",
    "df_customers.createOrReplaceTempView(\"customers\")\n",
    "df_items.createOrReplaceTempView(\"order_items\")\n",
    "df_payments.createOrReplaceTempView(\"order_payments\")"
   ]
  },
  {
   "cell_type": "code",
   "execution_count": null,
   "id": "e917bacb",
   "metadata": {},
   "outputs": [],
   "source": [
<<<<<<< HEAD
<<<<<<< HEAD
    "query = \"\"\"\n",
    "    WITH order_payments_total AS (\n",
    "        SELECT order_id, \n",
    "        SUM(payment_value) AS payment_value_total,\n",
    "        MAX(payment_installments) AS payment_installments_total\n",
    "    FROM order_payments\n",
    "    GROUP BY order_id\n",
    "    )\n",
    "\n",
    "    SELECT \n",
    "        o.order_id,\n",
    "        p.product_id,\n",
    "        c.customer_id,\n",
    "        i.order_item_id,\n",
    "\n",
    "        i.price,\n",
    "        i.freight_value,\n",
    "        opt.payment_value_total,\n",
    "        opt.payment_installments_total,\n",
    "\n",
    "        p.product_category_name,\n",
    "\n",
    "        c.customer_city,\n",
    "        c.customer_state,\n",
    "\n",
    "        o.order_status,\n",
    "\n",
    "        o.order_purchase_timestamp,\n",
    "        o.order_delivered_carrier_date\n",
    "\n",
    "    FROM order_items AS i\n",
    "\n",
    "    INNER JOIN orders AS o\n",
    "        ON i.order_id = o.order_id\n",
    "    \n",
    "    LEFT JOIN products AS p\n",
    "        ON i.product_id = p.product_id\n",
    "\n",
    "    LEFT JOIN customers AS c\n",
    "        ON o.customer_id = c.customer_id\n",
    "\n",
    "    LEFT JOIN order_payments_total AS opt\n",
    "        ON i.order_id = opt.order_id\n",
    "\"\"\""
   ]
  },
  {
   "cell_type": "code",
   "execution_count": null,
   "id": "fbf24d88",
   "metadata": {},
   "outputs": [],
   "source": [
    "df = spark.sql(query)"
   ]
  },
  {
   "cell_type": "code",
   "execution_count": null,
   "id": "1933cfc6",
   "metadata": {},
   "outputs": [],
   "source": [
    "df.printSchema()"
   ]
  },
  {
   "cell_type": "code",
   "execution_count": null,
   "id": "443475d1",
   "metadata": {},
   "outputs": [],
   "source": [
    "df.write \\\n",
    "    .jdbc(url=jdbc_url,\n",
    "          table=\"gold.orders_analytics\",\n",
    "          mode=\"overwrite\",\n",
    "          properties=jdbc_properties)"
   ]
=======
    "query = \"\"\"\"\n",
    "\"\"\""
   ]
>>>>>>> 89a46fc7c9be0502263bea884c46e2ff385b5009
=======
    "query = \"\"\"\"\n",
    "\"\"\""
   ]
>>>>>>> 89a46fc7c9be0502263bea884c46e2ff385b5009
  }
 ],
 "metadata": {
  "kernelspec": {
   "display_name": "venv_spark",
   "language": "python",
   "name": "python3"
  },
  "language_info": {
   "codemirror_mode": {
    "name": "ipython",
    "version": 3
   },
   "file_extension": ".py",
   "mimetype": "text/x-python",
   "name": "python",
   "nbconvert_exporter": "python",
   "pygments_lexer": "ipython3",
   "version": "3.11.9"
  }
 },
 "nbformat": 4,
 "nbformat_minor": 5
}
