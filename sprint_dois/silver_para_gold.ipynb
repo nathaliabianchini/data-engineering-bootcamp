{
 "cells": [
  {
   "cell_type": "code",
   "execution_count": 1,
   "id": "e730c073",
   "metadata": {},
   "outputs": [],
   "source": [
    "from pyspark.sql import SparkSession\n",
    "from pyspark.sql.types import *\n",
    "import os"
   ]
  },
  {
   "cell_type": "code",
   "execution_count": 2,
   "id": "99584cf8",
   "metadata": {},
   "outputs": [],
   "source": [
    "jar_path = os.path.abspath(\"../conector_dll/mssql-jdbc-13.2.1.jre11.jar\")\n",
    "dll_path = os.path.abspath(\"../conector_dll/mssql-jdbc_auth-13.2.1.x64.dll\")  \n",
    "\n",
    "os.environ[\"PATH\"] = os.path.dirname(dll_path) + os.pathsep + os.environ[\"PATH\"]"
   ]
  },
  {
   "cell_type": "code",
   "execution_count": 3,
   "id": "2adf1e86",
   "metadata": {},
   "outputs": [],
   "source": [
    "spark = SparkSession.builder \\\n",
    "    .appName(\"Sprint 02 - Silver para Gold\") \\\n",
    "    .config(\"spark.jars\", jar_path) \\\n",
    "    .getOrCreate()"
   ]
  },
  {
   "cell_type": "code",
   "execution_count": 4,
   "id": "73f35ea0",
   "metadata": {},
   "outputs": [],
   "source": [
    "jdbc_url = \"jdbc:sqlserver://localhost:1433;databaseName=olist_db;integratedSecurity=true;encrypt=true;trustServerCertificate=true;\"\n",
    "\n",
    "jdbc_properties = {\n",
    "    \"driver\": \"com.microsoft.sqlserver.jdbc.SQLServerDriver\"\n",
    "}"
   ]
  },
  {
   "cell_type": "code",
   "execution_count": null,
   "id": "52e33052",
   "metadata": {},
   "outputs": [
    {
     "name": "stdout",
     "output_type": "stream",
     "text": [
      "root\n",
      " |-- order_id: string (nullable = true)\n",
      " |-- customer_id: string (nullable = true)\n",
      " |-- order_status: string (nullable = true)\n",
      " |-- order_purchase_timestamp: timestamp (nullable = true)\n",
      " |-- order_approved_at: timestamp (nullable = true)\n",
      " |-- order_delivered_carrier_date: timestamp (nullable = true)\n",
      " |-- order_delivered_customer_date: timestamp (nullable = true)\n",
      " |-- order_estimated_delivery_date: timestamp (nullable = true)\n",
      "\n"
     ]
    }
   ],
   "source": [
    "def read_silver_tables(table_name):\n",
    "    return spark.read \\\n",
    "        .jdbc(url=jdbc_url,\n",
    "              table=f\"silver.{table_name}\",\n",
    "              properties=jdbc_properties)\n",
    "\n",
    "df_orders = read_silver_tables(\"orders\")\n",
    "df_products = read_silver_tables(\"products\")\n",
    "df_customers = read_silver_tables(\"customers\")\n",
    "df_items = read_silver_tables(\"order_items\")\n",
    "df_payments = read_silver_tables(\"order_payments\")\n",
    "\n",
    "\n",
    "df_orders.createOrReplaceTempView(\"orders\")\n",
    "df_products.createOrReplaceTempView(\"products\")\n",
    "df_customers.createOrReplaceTempView(\"customers\")\n",
    "df_items.createOrReplaceTempView(\"order_items\")\n",
    "df_payments.createOrReplaceTempView(\"order_payments\")"
   ]
  },
  {
   "cell_type": "code",
   "execution_count": null,
   "id": "e917bacb",
   "metadata": {},
   "outputs": [],
   "source": [
    "query = \"\"\"\"\n",
    "\"\"\""
   ]
  }
 ],
 "metadata": {
  "kernelspec": {
   "display_name": "venv_spark",
   "language": "python",
   "name": "python3"
  },
  "language_info": {
   "codemirror_mode": {
    "name": "ipython",
    "version": 3
   },
   "file_extension": ".py",
   "mimetype": "text/x-python",
   "name": "python",
   "nbconvert_exporter": "python",
   "pygments_lexer": "ipython3",
   "version": "3.11.9"
  }
 },
 "nbformat": 4,
 "nbformat_minor": 5
}
